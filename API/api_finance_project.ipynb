{
 "cells": [
  {
   "cell_type": "markdown",
   "metadata": {},
   "source": [
    "# Financial Data Analysis- Using Qaundl API"
   ]
  },
  {
   "cell_type": "markdown",
   "metadata": {},
   "source": [
    "Qaundl is currently the most widely used aggregator of financial market data, and in this exercise, we will use their API to analyze data from the Frankfurt Stock Exhange (FSE). We'll analyze the stock prices of a company called Carl Zeiss Meditec, which manufactures tools for eye examinations, as well as medical lasers for laser eye surgery: https://www.zeiss.com/meditec/int/home.html. The company is listed under the stock ticker AFX_X."
   ]
  },
  {
   "cell_type": "markdown",
   "metadata": {},
   "source": [
    "NOTE: API key has been deleted before publishing this notebook on github"
   ]
  },
  {
   "cell_type": "code",
   "execution_count": 1,
   "metadata": {},
   "outputs": [],
   "source": [
    "# Store the API key as a string - according to PEP8, constants are always named in all upper case\n",
    "API_KEY = '-HLjhzVLzDaFfWM4JdiU'\n"
   ]
  },
  {
   "cell_type": "markdown",
   "metadata": {},
   "source": [
    "You can find the detailed Quandl API instructions here: https://docs.quandl.com/docs/time-series"
   ]
  },
  {
   "cell_type": "markdown",
   "metadata": {},
   "source": [
    "While there is a dedicated Python package for connecting to the Quandl API, we would prefer that you use the *requests* package, which can be easily downloaded using *pip* or *conda*. You can find the documentation for the package here: http://docs.python-requests.org/en/master/ "
   ]
  },
  {
   "cell_type": "markdown",
   "metadata": {},
   "source": [
    "Finally, apart from the *requests* package, you are encouraged to not use any third party Python packages, such as *pandas*, and instead focus on what's available in the Python Standard Library (the *collections* module might come in handy: https://pymotw.com/3/collections/ ).\n",
    "Also, since you won't have access to DataFrames, you are encouraged to us Python's native data structures - preferably dictionaries, though some questions can also be answered using lists.\n",
    "You can read more on these data structures here: https://docs.python.org/3/tutorial/datastructures.html"
   ]
  },
  {
   "cell_type": "markdown",
   "metadata": {},
   "source": [
    "### Importing modules & loading Quandl API"
   ]
  },
  {
   "cell_type": "code",
   "execution_count": 2,
   "metadata": {},
   "outputs": [],
   "source": [
    "# First, import the relevant modules\n",
    "import requests\n",
    "import json\n",
    "import numpy as np  \n"
   ]
  },
  {
   "cell_type": "code",
   "execution_count": 3,
   "metadata": {},
   "outputs": [],
   "source": [
    "#Use requests to upload API\n",
    "url=  \"https://www.quandl.com/api/v3/datasets/FSE/AFX_X.json?column_index=4&start_date=2018-01-01&end_date=2018-01-02&collapse=daily&transform=rdiff&api_key=\"\n",
    "r1= requests.get(url + API_KEY)"
   ]
  },
  {
   "cell_type": "code",
   "execution_count": 4,
   "metadata": {},
   "outputs": [
    {
     "data": {
      "text/plain": [
       "{'dataset': {'id': 10095370,\n",
       "  'dataset_code': 'AFX_X',\n",
       "  'database_code': 'FSE',\n",
       "  'name': 'Carl Zeiss Meditec (AFX_X)',\n",
       "  'description': 'Stock Prices for Carl Zeiss Meditec (AFX) from the Frankfurt Stock Exchange.<br><br>Trading System: Xetra<br><br>ISIN: DE0005313704',\n",
       "  'refreshed_at': '2019-05-23T22:30:48.313Z',\n",
       "  'newest_available_date': '2019-05-23',\n",
       "  'oldest_available_date': '2000-06-07',\n",
       "  'column_names': ['Date', 'Close'],\n",
       "  'frequency': 'daily',\n",
       "  'type': 'Time Series',\n",
       "  'premium': False,\n",
       "  'limit': None,\n",
       "  'transform': 'rdiff',\n",
       "  'column_index': 4,\n",
       "  'start_date': '2018-01-01',\n",
       "  'end_date': '2018-01-02',\n",
       "  'data': [],\n",
       "  'collapse': 'daily',\n",
       "  'order': None,\n",
       "  'database_id': 6129}}"
      ]
     },
     "execution_count": 4,
     "metadata": {},
     "output_type": "execute_result"
    }
   ],
   "source": [
    "# Inspect the JSON structure of the object returned\n",
    "r1.json()"
   ]
  },
  {
   "cell_type": "markdown",
   "metadata": {},
   "source": [
    "### Topics to Explore:\n",
    "\n",
    "1. Collect data from the Franfurt Stock Exchange, for the ticker AFX_X, for the whole year 2017 (format is YYYY-MM-DD).\n",
    "2. Convert the returned JSON object into a Python dictionary.\n",
    "3. Calculate what the highest and lowest opening prices were for the stock in this period.\n",
    "4. What was the largest change in any one day (based on High and Low price)?\n",
    "5. What was the largest change between any two days (based on Closing Price)?\n",
    "6. What was the average daily trading volume during this year?\n",
    "7. What was the median trading volume during this year?"
   ]
  },
  {
   "cell_type": "markdown",
   "metadata": {},
   "source": [
    "### Uploading 2017 stock prices of AFX_X into a dictionary"
   ]
  },
  {
   "cell_type": "code",
   "execution_count": 5,
   "metadata": {},
   "outputs": [],
   "source": [
    "#download a year of data using requests and API\n",
    "url=  \"https://www.quandl.com/api/v3/datasets/FSE/AFX_X.json?start_date=2017-01-01&end_date=2017-12-31&api_key=\"\n",
    "r= requests.get(url + API_KEY)\n"
   ]
  },
  {
   "cell_type": "code",
   "execution_count": 6,
   "metadata": {},
   "outputs": [],
   "source": [
    "#convert JSON object into python dict\n",
    "data = r.json()"
   ]
  },
  {
   "cell_type": "code",
   "execution_count": 7,
   "metadata": {},
   "outputs": [
    {
     "data": {
      "text/plain": [
       "['Date',\n",
       " 'Open',\n",
       " 'High',\n",
       " 'Low',\n",
       " 'Close',\n",
       " 'Change',\n",
       " 'Traded Volume',\n",
       " 'Turnover',\n",
       " 'Last Price of the Day',\n",
       " 'Daily Traded Units',\n",
       " 'Daily Turnover']"
      ]
     },
     "execution_count": 7,
     "metadata": {},
     "output_type": "execute_result"
    }
   ],
   "source": [
    "#looking at the different column names\n",
    "data[\"dataset\"][\"column_names\"]"
   ]
  },
  {
   "cell_type": "code",
   "execution_count": 14,
   "metadata": {},
   "outputs": [],
   "source": [
    "#Unesting the dictionary per \"column name\" & \"data\"\n",
    "afx = dict(zip(data[\"dataset\"]['column_names'], list(zip(*data[\"dataset\"]['data']))))\n"
   ]
  },
  {
   "cell_type": "markdown",
   "metadata": {},
   "source": [
    "#### Now, it's time to start exploring the data. Let's see what the maximum & minimum opening values were in 2017:"
   ]
  },
  {
   "cell_type": "code",
   "execution_count": 9,
   "metadata": {},
   "outputs": [
    {
     "name": "stdout",
     "output_type": "stream",
     "text": [
      "Highest Opening Price for 2017: 53.11\n",
      "Lowest Opening Price for 2017: 34.0\n"
     ]
    }
   ],
   "source": [
    "#finding the max/min stock prices for this period\n",
    "high = max(x for x in afx['Open'] if x != None)\n",
    "low = min(x for x in afx['Open'] if x != None)\n",
    "\n",
    "print (f'Highest Opening Price for 2017: {high}')\n",
    "print(f'Lowest Opening Price for 2017: {low}')\n",
    "\n"
   ]
  },
  {
   "cell_type": "markdown",
   "metadata": {},
   "source": [
    "#### Next, let's explore price changes. What is the largest stock price change in a single day:\n"
   ]
  },
  {
   "cell_type": "code",
   "execution_count": 10,
   "metadata": {},
   "outputs": [
    {
     "name": "stdout",
     "output_type": "stream",
     "text": [
      "The largest single daily stock fluctation is 2.81\n"
     ]
    }
   ],
   "source": [
    "high = np.array(afx['High'])\n",
    "low = np.array(afx['Low'])\n",
    "change= max(high - low)\n",
    "print(f\"The largest single daily stock fluctation is {change:.4}\")"
   ]
  },
  {
   "cell_type": "markdown",
   "metadata": {},
   "source": [
    "#### What is the biggest change in closing price from one day to another?"
   ]
  },
  {
   "cell_type": "code",
   "execution_count": 11,
   "metadata": {},
   "outputs": [
    {
     "name": "stdout",
     "output_type": "stream",
     "text": [
      "The largest day to day stock fluctation is 2.56\n"
     ]
    }
   ],
   "source": [
    "daily_change= max([abs(day1-day2) for day1, day2 in zip(list(afx['Close']), list(afx['Close'][1:]))])\n",
    "print(f\"The largest day to day stock fluctation is {daily_change:.3}\")"
   ]
  },
  {
   "cell_type": "markdown",
   "metadata": {},
   "source": [
    "#### Average daily trading volume:"
   ]
  },
  {
   "cell_type": "code",
   "execution_count": 12,
   "metadata": {},
   "outputs": [
    {
     "name": "stdout",
     "output_type": "stream",
     "text": [
      "The average daily trading volumne is:  89124.34\n"
     ]
    }
   ],
   "source": [
    "avg_vol= sum(afx[\"Traded Volume\"]) / len(afx[\"Traded Volume\"])\n",
    "print(f\"The average daily trading volumne is: {avg_vol: .7}\")"
   ]
  },
  {
   "cell_type": "markdown",
   "metadata": {},
   "source": [
    "#### Median Trading Volume:"
   ]
  },
  {
   "cell_type": "code",
   "execution_count": 13,
   "metadata": {},
   "outputs": [
    {
     "name": "stdout",
     "output_type": "stream",
     "text": [
      "The median trading volume for 2017 is 76286.0\n"
     ]
    }
   ],
   "source": [
    "def median_calc(lst):\n",
    "# sort the list in ascending order\n",
    "    sorted_lst = sorted(lst, reverse= False)\n",
    "    \n",
    "    # Calculate the size of the list\n",
    "    size = len(sorted_lst)\n",
    "    \n",
    "    # Check if the size is odd or even number provided the list not empty\n",
    "    if size % 2 == 1:\n",
    "        return sorted_lst[size//2]\n",
    "    else:\n",
    "        return sum(sorted_lst[(size//2)-1:(size//2)+1])/2\n",
    "    \n",
    "median= median_calc(afx[\"Traded Volume\"])\n",
    "print(f\"The median trading volume for 2017 is {median}\")\n"
   ]
  },
  {
   "cell_type": "code",
   "execution_count": null,
   "metadata": {},
   "outputs": [],
   "source": []
  }
 ],
 "metadata": {
  "kernelspec": {
   "display_name": "Python 3",
   "language": "python",
   "name": "python3"
  },
  "language_info": {
   "codemirror_mode": {
    "name": "ipython",
    "version": 3
   },
   "file_extension": ".py",
   "mimetype": "text/x-python",
   "name": "python",
   "nbconvert_exporter": "python",
   "pygments_lexer": "ipython3",
   "version": "3.7.1"
  }
 },
 "nbformat": 4,
 "nbformat_minor": 2
}
