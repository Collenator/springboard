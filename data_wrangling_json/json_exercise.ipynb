{
 "cells": [
  {
   "cell_type": "markdown",
   "metadata": {},
   "source": [
    "# JSON examples and exercise\n",
    "****\n",
    "+ get familiar with packages for dealing with JSON\n",
    "+ study examples with JSON strings and files \n",
    "+ work on exercise to be completed and submitted \n",
    "****\n",
    "+ reference: http://pandas.pydata.org/pandas-docs/stable/io.html#io-json-reader\n",
    "+ data source: http://jsonstudio.com/resources/\n",
    "****"
   ]
  },
  {
   "cell_type": "code",
   "execution_count": 1,
   "metadata": {},
   "outputs": [],
   "source": [
    "import pandas as pd\n",
    "import numpy as np\n",
    "import matplotlib.pyplot as plt"
   ]
  },
  {
   "cell_type": "markdown",
   "metadata": {},
   "source": [
    "## imports for Python, Pandas"
   ]
  },
  {
   "cell_type": "code",
   "execution_count": 2,
   "metadata": {},
   "outputs": [],
   "source": [
    "import json\n",
    "from pandas.io.json import json_normalize"
   ]
  },
  {
   "cell_type": "markdown",
   "metadata": {},
   "source": [
    "## JSON example, with string\n",
    "\n",
    "+ demonstrates creation of normalized dataframes (tables) from nested json string\n",
    "+ source: http://pandas.pydata.org/pandas-docs/stable/io.html#normalization"
   ]
  },
  {
   "cell_type": "code",
   "execution_count": 3,
   "metadata": {},
   "outputs": [],
   "source": [
    "# define json string\n",
    "data = [{'state': 'Florida', \n",
    "         'shortname': 'FL',\n",
    "         'info': {'governor': 'Rick Scott'},\n",
    "         'counties': [{'name': 'Dade', 'population': 12345},\n",
    "                      {'name': 'Broward', 'population': 40000},\n",
    "                      {'name': 'Palm Beach', 'population': 60000}]},\n",
    "        {'state': 'Ohio',\n",
    "         'shortname': 'OH',\n",
    "         'info': {'governor': 'John Kasich'},\n",
    "         'counties': [{'name': 'Summit', 'population': 1234},\n",
    "                      {'name': 'Cuyahoga', 'population': 1337}]}]"
   ]
  },
  {
   "cell_type": "code",
   "execution_count": 4,
   "metadata": {},
   "outputs": [
    {
     "data": {
      "text/html": [
       "<div>\n",
       "<style scoped>\n",
       "    .dataframe tbody tr th:only-of-type {\n",
       "        vertical-align: middle;\n",
       "    }\n",
       "\n",
       "    .dataframe tbody tr th {\n",
       "        vertical-align: top;\n",
       "    }\n",
       "\n",
       "    .dataframe thead th {\n",
       "        text-align: right;\n",
       "    }\n",
       "</style>\n",
       "<table border=\"1\" class=\"dataframe\">\n",
       "  <thead>\n",
       "    <tr style=\"text-align: right;\">\n",
       "      <th></th>\n",
       "      <th>0</th>\n",
       "    </tr>\n",
       "  </thead>\n",
       "  <tbody>\n",
       "    <tr>\n",
       "      <th>0</th>\n",
       "      <td>governor</td>\n",
       "    </tr>\n",
       "    <tr>\n",
       "      <th>1</th>\n",
       "      <td>governor</td>\n",
       "    </tr>\n",
       "  </tbody>\n",
       "</table>\n",
       "</div>"
      ],
      "text/plain": [
       "          0\n",
       "0  governor\n",
       "1  governor"
      ]
     },
     "execution_count": 4,
     "metadata": {},
     "output_type": "execute_result"
    }
   ],
   "source": [
    "# use normalization to create tables from nested element\n",
    "json_normalize(data, 'counties')\n",
    "json_normalize(data, \"info\" )"
   ]
  },
  {
   "cell_type": "code",
   "execution_count": 5,
   "metadata": {},
   "outputs": [
    {
     "data": {
      "text/html": [
       "<div>\n",
       "<style scoped>\n",
       "    .dataframe tbody tr th:only-of-type {\n",
       "        vertical-align: middle;\n",
       "    }\n",
       "\n",
       "    .dataframe tbody tr th {\n",
       "        vertical-align: top;\n",
       "    }\n",
       "\n",
       "    .dataframe thead th {\n",
       "        text-align: right;\n",
       "    }\n",
       "</style>\n",
       "<table border=\"1\" class=\"dataframe\">\n",
       "  <thead>\n",
       "    <tr style=\"text-align: right;\">\n",
       "      <th></th>\n",
       "      <th>name</th>\n",
       "      <th>population</th>\n",
       "      <th>state</th>\n",
       "      <th>shortname</th>\n",
       "      <th>info.governor</th>\n",
       "    </tr>\n",
       "  </thead>\n",
       "  <tbody>\n",
       "    <tr>\n",
       "      <th>0</th>\n",
       "      <td>Dade</td>\n",
       "      <td>12345</td>\n",
       "      <td>Florida</td>\n",
       "      <td>FL</td>\n",
       "      <td>Rick Scott</td>\n",
       "    </tr>\n",
       "    <tr>\n",
       "      <th>1</th>\n",
       "      <td>Broward</td>\n",
       "      <td>40000</td>\n",
       "      <td>Florida</td>\n",
       "      <td>FL</td>\n",
       "      <td>Rick Scott</td>\n",
       "    </tr>\n",
       "    <tr>\n",
       "      <th>2</th>\n",
       "      <td>Palm Beach</td>\n",
       "      <td>60000</td>\n",
       "      <td>Florida</td>\n",
       "      <td>FL</td>\n",
       "      <td>Rick Scott</td>\n",
       "    </tr>\n",
       "    <tr>\n",
       "      <th>3</th>\n",
       "      <td>Summit</td>\n",
       "      <td>1234</td>\n",
       "      <td>Ohio</td>\n",
       "      <td>OH</td>\n",
       "      <td>John Kasich</td>\n",
       "    </tr>\n",
       "    <tr>\n",
       "      <th>4</th>\n",
       "      <td>Cuyahoga</td>\n",
       "      <td>1337</td>\n",
       "      <td>Ohio</td>\n",
       "      <td>OH</td>\n",
       "      <td>John Kasich</td>\n",
       "    </tr>\n",
       "  </tbody>\n",
       "</table>\n",
       "</div>"
      ],
      "text/plain": [
       "         name  population    state shortname info.governor\n",
       "0        Dade       12345  Florida        FL    Rick Scott\n",
       "1     Broward       40000  Florida        FL    Rick Scott\n",
       "2  Palm Beach       60000  Florida        FL    Rick Scott\n",
       "3      Summit        1234     Ohio        OH   John Kasich\n",
       "4    Cuyahoga        1337     Ohio        OH   John Kasich"
      ]
     },
     "execution_count": 5,
     "metadata": {},
     "output_type": "execute_result"
    }
   ],
   "source": [
    "# further populate tables created from nested element\n",
    "json_normalize(data, 'counties', ['state', 'shortname', ['info', 'governor']])"
   ]
  },
  {
   "cell_type": "markdown",
   "metadata": {},
   "source": [
    "****\n",
    "## JSON example, with file\n",
    "\n",
    "+ demonstrates reading in a json file as a string and as a table\n",
    "+ uses small sample file containing data about projects funded by the World Bank \n",
    "+ data source: http://jsonstudio.com/resources/"
   ]
  },
  {
   "cell_type": "code",
   "execution_count": 6,
   "metadata": {},
   "outputs": [
    {
     "data": {
      "text/plain": [
       "[{'_id': {'$oid': '52b213b38594d8a2be17c780'},\n",
       "  'approvalfy': 1999,\n",
       "  'board_approval_month': 'November',\n",
       "  'boardapprovaldate': '2013-11-12T00:00:00Z',\n",
       "  'borrower': 'FEDERAL DEMOCRATIC REPUBLIC OF ETHIOPIA',\n",
       "  'closingdate': '2018-07-07T00:00:00Z',\n",
       "  'country_namecode': 'Federal Democratic Republic of Ethiopia!$!ET',\n",
       "  'countrycode': 'ET',\n",
       "  'countryname': 'Federal Democratic Republic of Ethiopia',\n",
       "  'countryshortname': 'Ethiopia',\n",
       "  'docty': 'Project Information Document,Indigenous Peoples Plan,Project Information Document',\n",
       "  'envassesmentcategorycode': 'C',\n",
       "  'grantamt': 0,\n",
       "  'ibrdcommamt': 0,\n",
       "  'id': 'P129828',\n",
       "  'idacommamt': 130000000,\n",
       "  'impagency': 'MINISTRY OF EDUCATION',\n",
       "  'lendinginstr': 'Investment Project Financing',\n",
       "  'lendinginstrtype': 'IN',\n",
       "  'lendprojectcost': 550000000,\n",
       "  'majorsector_percent': [{'Name': 'Education', 'Percent': 46},\n",
       "   {'Name': 'Education', 'Percent': 26},\n",
       "   {'Name': 'Public Administration, Law, and Justice', 'Percent': 16},\n",
       "   {'Name': 'Education', 'Percent': 12}],\n",
       "  'mjsector_namecode': [{'name': 'Education', 'code': 'EX'},\n",
       "   {'name': 'Education', 'code': 'EX'},\n",
       "   {'name': 'Public Administration, Law, and Justice', 'code': 'BX'},\n",
       "   {'name': 'Education', 'code': 'EX'}],\n",
       "  'mjtheme': ['Human development'],\n",
       "  'mjtheme_namecode': [{'name': 'Human development', 'code': '8'},\n",
       "   {'name': '', 'code': '11'}],\n",
       "  'mjthemecode': '8,11',\n",
       "  'prodline': 'PE',\n",
       "  'prodlinetext': 'IBRD/IDA',\n",
       "  'productlinetype': 'L',\n",
       "  'project_abstract': {'cdata': 'The development objective of the Second Phase of General Education Quality Improvement Project for Ethiopia is to improve learning conditions in primary and secondary schools and strengthen institutions at different levels of educational administration. The project has six components. The first component is curriculum, textbooks, assessment, examinations, and inspection. This component will support improvement of learning conditions in grades KG-12 by providing increased access to teaching and learning materials and through improvements to the curriculum by assessing the strengths and weaknesses of the current curriculum. This component has following four sub-components: (i) curriculum reform and implementation; (ii) teaching and learning materials; (iii) assessment and examinations; and (iv) inspection. The second component is teacher development program (TDP). This component will support improvements in learning conditions in both primary and secondary schools by advancing the quality of teaching in general education through: (a) enhancing the training of pre-service teachers in teacher education institutions; and (b) improving the quality of in-service teacher training. This component has following three sub-components: (i) pre-service teacher training; (ii) in-service teacher training; and (iii) licensing and relicensing of teachers and school leaders. The third component is school improvement plan. This component will support the strengthening of school planning in order to improve learning outcomes, and to partly fund the school improvement plans through school grants. It has following two sub-components: (i) school improvement plan; and (ii) school grants. The fourth component is management and capacity building, including education management information systems (EMIS). This component will support management and capacity building aspect of the project. This component has following three sub-components: (i) capacity building for education planning and management; (ii) capacity building for school planning and management; and (iii) EMIS. The fifth component is improving the quality of learning and teaching in secondary schools and universities through the use of information and communications technology (ICT). It has following five sub-components: (i) national policy and institution for ICT in general education; (ii) national ICT infrastructure improvement plan for general education; (iii) develop an integrated monitoring, evaluation, and learning system specifically for the ICT component; (iv) teacher professional development in the use of ICT; and (v) provision of limited number of e-Braille display readers with the possibility to scale up to all secondary education schools based on the successful implementation and usage of the readers. The sixth component is program coordination, monitoring and evaluation, and communication. It will support institutional strengthening by developing capacities in all aspects of program coordination, monitoring and evaluation; a new sub-component on communications will support information sharing for better management and accountability. It has following three sub-components: (i) program coordination; (ii) monitoring and evaluation (M and E); and (iii) communication.'},\n",
       "  'project_name': 'Ethiopia General Education Quality Improvement Project II',\n",
       "  'projectdocs': [{'DocTypeDesc': 'Project Information Document (PID),  Vol.',\n",
       "    'DocType': 'PID',\n",
       "    'EntityID': '090224b081e545fb_1_0',\n",
       "    'DocURL': 'http://www-wds.worldbank.org/servlet/WDSServlet?pcont=details&eid=090224b081e545fb_1_0',\n",
       "    'DocDate': '28-AUG-2013'},\n",
       "   {'DocTypeDesc': 'Indigenous Peoples Plan (IP),  Vol.1 of 1',\n",
       "    'DocType': 'IP',\n",
       "    'EntityID': '000442464_20130920111729',\n",
       "    'DocURL': 'http://www-wds.worldbank.org/servlet/WDSServlet?pcont=details&eid=000442464_20130920111729',\n",
       "    'DocDate': '01-JUL-2013'},\n",
       "   {'DocTypeDesc': 'Project Information Document (PID),  Vol.',\n",
       "    'DocType': 'PID',\n",
       "    'EntityID': '090224b0817b19e2_1_0',\n",
       "    'DocURL': 'http://www-wds.worldbank.org/servlet/WDSServlet?pcont=details&eid=090224b0817b19e2_1_0',\n",
       "    'DocDate': '22-NOV-2012'}],\n",
       "  'projectfinancialtype': 'IDA',\n",
       "  'projectstatusdisplay': 'Active',\n",
       "  'regionname': 'Africa',\n",
       "  'sector': [{'Name': 'Primary education'},\n",
       "   {'Name': 'Secondary education'},\n",
       "   {'Name': 'Public administration- Other social services'},\n",
       "   {'Name': 'Tertiary education'}],\n",
       "  'sector1': {'Name': 'Primary education', 'Percent': 46},\n",
       "  'sector2': {'Name': 'Secondary education', 'Percent': 26},\n",
       "  'sector3': {'Name': 'Public administration- Other social services',\n",
       "   'Percent': 16},\n",
       "  'sector4': {'Name': 'Tertiary education', 'Percent': 12},\n",
       "  'sector_namecode': [{'name': 'Primary education', 'code': 'EP'},\n",
       "   {'name': 'Secondary education', 'code': 'ES'},\n",
       "   {'name': 'Public administration- Other social services', 'code': 'BS'},\n",
       "   {'name': 'Tertiary education', 'code': 'ET'}],\n",
       "  'sectorcode': 'ET,BS,ES,EP',\n",
       "  'source': 'IBRD',\n",
       "  'status': 'Active',\n",
       "  'supplementprojectflg': 'N',\n",
       "  'theme1': {'Name': 'Education for all', 'Percent': 100},\n",
       "  'theme_namecode': [{'name': 'Education for all', 'code': '65'}],\n",
       "  'themecode': '65',\n",
       "  'totalamt': 130000000,\n",
       "  'totalcommamt': 130000000,\n",
       "  'url': 'http://www.worldbank.org/projects/P129828/ethiopia-general-education-quality-improvement-project-ii?lang=en'},\n",
       " {'_id': {'$oid': '52b213b38594d8a2be17c781'},\n",
       "  'approvalfy': 2015,\n",
       "  'board_approval_month': 'November',\n",
       "  'boardapprovaldate': '2013-11-04T00:00:00Z',\n",
       "  'borrower': 'GOVERNMENT OF TUNISIA',\n",
       "  'country_namecode': 'Republic of Tunisia!$!TN',\n",
       "  'countrycode': 'TN',\n",
       "  'countryname': 'Republic of Tunisia',\n",
       "  'countryshortname': 'Tunisia',\n",
       "  'docty': 'Project Information Document,Integrated Safeguards Data Sheet,Integrated Safeguards Data Sheet,Project Information Document,Integrated Safeguards Data Sheet,Project Information Document',\n",
       "  'envassesmentcategorycode': 'C',\n",
       "  'grantamt': 4700000,\n",
       "  'ibrdcommamt': 0,\n",
       "  'id': 'P144674',\n",
       "  'idacommamt': 0,\n",
       "  'impagency': 'MINISTRY OF FINANCE',\n",
       "  'lendinginstr': 'Specific Investment Loan',\n",
       "  'lendinginstrtype': 'IN',\n",
       "  'lendprojectcost': 5700000,\n",
       "  'majorsector_percent': [{'Name': 'Public Administration, Law, and Justice',\n",
       "    'Percent': 70},\n",
       "   {'Name': 'Public Administration, Law, and Justice', 'Percent': 30}],\n",
       "  'mjsector_namecode': [{'name': 'Public Administration, Law, and Justice',\n",
       "    'code': 'BX'},\n",
       "   {'name': 'Public Administration, Law, and Justice', 'code': 'BX'}],\n",
       "  'mjtheme': ['Economic management', 'Social protection and risk management'],\n",
       "  'mjtheme_namecode': [{'name': 'Economic management', 'code': '1'},\n",
       "   {'name': 'Social protection and risk management', 'code': '6'}],\n",
       "  'mjthemecode': '1,6',\n",
       "  'prodline': 'RE',\n",
       "  'prodlinetext': 'Recipient Executed Activities',\n",
       "  'productlinetype': 'L',\n",
       "  'project_name': 'TN: DTF Social Protection Reforms Support',\n",
       "  'projectdocs': [{'DocTypeDesc': 'Project Information Document (PID),  Vol.1 of 1',\n",
       "    'DocType': 'PID',\n",
       "    'EntityID': '000333037_20131024115616',\n",
       "    'DocURL': 'http://www-wds.worldbank.org/servlet/WDSServlet?pcont=details&eid=000333037_20131024115616',\n",
       "    'DocDate': '29-MAR-2013'},\n",
       "   {'DocTypeDesc': 'Integrated Safeguards Data Sheet (ISDS),  Vol.1 of 1',\n",
       "    'DocType': 'ISDS',\n",
       "    'EntityID': '000356161_20131024151611',\n",
       "    'DocURL': 'http://www-wds.worldbank.org/servlet/WDSServlet?pcont=details&eid=000356161_20131024151611',\n",
       "    'DocDate': '29-MAR-2013'},\n",
       "   {'DocTypeDesc': 'Integrated Safeguards Data Sheet (ISDS),  Vol.1 of 1',\n",
       "    'DocType': 'ISDS',\n",
       "    'EntityID': '000442464_20131031112136',\n",
       "    'DocURL': 'http://www-wds.worldbank.org/servlet/WDSServlet?pcont=details&eid=000442464_20131031112136',\n",
       "    'DocDate': '29-MAR-2013'},\n",
       "   {'DocTypeDesc': 'Project Information Document (PID),  Vol.1 of 1',\n",
       "    'DocType': 'PID',\n",
       "    'EntityID': '000333037_20131031105716',\n",
       "    'DocURL': 'http://www-wds.worldbank.org/servlet/WDSServlet?pcont=details&eid=000333037_20131031105716',\n",
       "    'DocDate': '29-MAR-2013'},\n",
       "   {'DocTypeDesc': 'Integrated Safeguards Data Sheet (ISDS),  Vol.1 of 1',\n",
       "    'DocType': 'ISDS',\n",
       "    'EntityID': '000356161_20130305113209',\n",
       "    'DocURL': 'http://www-wds.worldbank.org/servlet/WDSServlet?pcont=details&eid=000356161_20130305113209',\n",
       "    'DocDate': '16-JAN-2013'},\n",
       "   {'DocTypeDesc': 'Project Information Document (PID),  Vol.1 of 1',\n",
       "    'DocType': 'PID',\n",
       "    'EntityID': '000356161_20130305113716',\n",
       "    'DocURL': 'http://www-wds.worldbank.org/servlet/WDSServlet?pcont=details&eid=000356161_20130305113716',\n",
       "    'DocDate': '16-JAN-2013'}],\n",
       "  'projectfinancialtype': 'OTHER',\n",
       "  'projectstatusdisplay': 'Active',\n",
       "  'regionname': 'Middle East and North Africa',\n",
       "  'sector': [{'Name': 'Public administration- Other social services'},\n",
       "   {'Name': 'General public administration sector'}],\n",
       "  'sector1': {'Name': 'Public administration- Other social services',\n",
       "   'Percent': 70},\n",
       "  'sector2': {'Name': 'General public administration sector', 'Percent': 30},\n",
       "  'sector_namecode': [{'name': 'Public administration- Other social services',\n",
       "    'code': 'BS'},\n",
       "   {'name': 'General public administration sector', 'code': 'BZ'}],\n",
       "  'sectorcode': 'BZ,BS',\n",
       "  'source': 'IBRD',\n",
       "  'status': 'Active',\n",
       "  'supplementprojectflg': 'N',\n",
       "  'theme1': {'Name': 'Other economic management', 'Percent': 30},\n",
       "  'theme_namecode': [{'name': 'Other economic management', 'code': '24'},\n",
       "   {'name': 'Social safety nets', 'code': '54'}],\n",
       "  'themecode': '54,24',\n",
       "  'totalamt': 0,\n",
       "  'totalcommamt': 4700000,\n",
       "  'url': 'http://www.worldbank.org/projects/P144674?lang=en'}]"
      ]
     },
     "execution_count": 6,
     "metadata": {},
     "output_type": "execute_result"
    }
   ],
   "source": [
    "# load json as string\n",
    "json.load((open('data/world_bank_projects_less.json')))"
   ]
  },
  {
   "cell_type": "code",
   "execution_count": 7,
   "metadata": {},
   "outputs": [
    {
     "data": {
      "text/html": [
       "<div>\n",
       "<style scoped>\n",
       "    .dataframe tbody tr th:only-of-type {\n",
       "        vertical-align: middle;\n",
       "    }\n",
       "\n",
       "    .dataframe tbody tr th {\n",
       "        vertical-align: top;\n",
       "    }\n",
       "\n",
       "    .dataframe thead th {\n",
       "        text-align: right;\n",
       "    }\n",
       "</style>\n",
       "<table border=\"1\" class=\"dataframe\">\n",
       "  <thead>\n",
       "    <tr style=\"text-align: right;\">\n",
       "      <th></th>\n",
       "      <th>_id</th>\n",
       "      <th>approvalfy</th>\n",
       "      <th>board_approval_month</th>\n",
       "      <th>boardapprovaldate</th>\n",
       "      <th>borrower</th>\n",
       "      <th>closingdate</th>\n",
       "      <th>country_namecode</th>\n",
       "      <th>countrycode</th>\n",
       "      <th>countryname</th>\n",
       "      <th>countryshortname</th>\n",
       "      <th>...</th>\n",
       "      <th>sectorcode</th>\n",
       "      <th>source</th>\n",
       "      <th>status</th>\n",
       "      <th>supplementprojectflg</th>\n",
       "      <th>theme1</th>\n",
       "      <th>theme_namecode</th>\n",
       "      <th>themecode</th>\n",
       "      <th>totalamt</th>\n",
       "      <th>totalcommamt</th>\n",
       "      <th>url</th>\n",
       "    </tr>\n",
       "  </thead>\n",
       "  <tbody>\n",
       "    <tr>\n",
       "      <th>0</th>\n",
       "      <td>{'$oid': '52b213b38594d8a2be17c780'}</td>\n",
       "      <td>1999</td>\n",
       "      <td>November</td>\n",
       "      <td>2013-11-12T00:00:00Z</td>\n",
       "      <td>FEDERAL DEMOCRATIC REPUBLIC OF ETHIOPIA</td>\n",
       "      <td>2018-07-07T00:00:00Z</td>\n",
       "      <td>Federal Democratic Republic of Ethiopia!$!ET</td>\n",
       "      <td>ET</td>\n",
       "      <td>Federal Democratic Republic of Ethiopia</td>\n",
       "      <td>Ethiopia</td>\n",
       "      <td>...</td>\n",
       "      <td>ET,BS,ES,EP</td>\n",
       "      <td>IBRD</td>\n",
       "      <td>Active</td>\n",
       "      <td>N</td>\n",
       "      <td>{'Name': 'Education for all', 'Percent': 100}</td>\n",
       "      <td>[{'name': 'Education for all', 'code': '65'}]</td>\n",
       "      <td>65</td>\n",
       "      <td>130000000</td>\n",
       "      <td>130000000</td>\n",
       "      <td>http://www.worldbank.org/projects/P129828/ethi...</td>\n",
       "    </tr>\n",
       "    <tr>\n",
       "      <th>1</th>\n",
       "      <td>{'$oid': '52b213b38594d8a2be17c781'}</td>\n",
       "      <td>2015</td>\n",
       "      <td>November</td>\n",
       "      <td>2013-11-04T00:00:00Z</td>\n",
       "      <td>GOVERNMENT OF TUNISIA</td>\n",
       "      <td>NaN</td>\n",
       "      <td>Republic of Tunisia!$!TN</td>\n",
       "      <td>TN</td>\n",
       "      <td>Republic of Tunisia</td>\n",
       "      <td>Tunisia</td>\n",
       "      <td>...</td>\n",
       "      <td>BZ,BS</td>\n",
       "      <td>IBRD</td>\n",
       "      <td>Active</td>\n",
       "      <td>N</td>\n",
       "      <td>{'Name': 'Other economic management', 'Percent...</td>\n",
       "      <td>[{'name': 'Other economic management', 'code':...</td>\n",
       "      <td>54,24</td>\n",
       "      <td>0</td>\n",
       "      <td>4700000</td>\n",
       "      <td>http://www.worldbank.org/projects/P144674?lang=en</td>\n",
       "    </tr>\n",
       "  </tbody>\n",
       "</table>\n",
       "<p>2 rows × 50 columns</p>\n",
       "</div>"
      ],
      "text/plain": [
       "                                    _id  approvalfy board_approval_month  \\\n",
       "0  {'$oid': '52b213b38594d8a2be17c780'}        1999             November   \n",
       "1  {'$oid': '52b213b38594d8a2be17c781'}        2015             November   \n",
       "\n",
       "      boardapprovaldate                                 borrower  \\\n",
       "0  2013-11-12T00:00:00Z  FEDERAL DEMOCRATIC REPUBLIC OF ETHIOPIA   \n",
       "1  2013-11-04T00:00:00Z                    GOVERNMENT OF TUNISIA   \n",
       "\n",
       "            closingdate                              country_namecode  \\\n",
       "0  2018-07-07T00:00:00Z  Federal Democratic Republic of Ethiopia!$!ET   \n",
       "1                   NaN                      Republic of Tunisia!$!TN   \n",
       "\n",
       "  countrycode                              countryname countryshortname  \\\n",
       "0          ET  Federal Democratic Republic of Ethiopia         Ethiopia   \n",
       "1          TN                      Republic of Tunisia          Tunisia   \n",
       "\n",
       "                         ...                           sectorcode source  \\\n",
       "0                        ...                          ET,BS,ES,EP   IBRD   \n",
       "1                        ...                                BZ,BS   IBRD   \n",
       "\n",
       "   status  supplementprojectflg  \\\n",
       "0  Active                     N   \n",
       "1  Active                     N   \n",
       "\n",
       "                                              theme1  \\\n",
       "0      {'Name': 'Education for all', 'Percent': 100}   \n",
       "1  {'Name': 'Other economic management', 'Percent...   \n",
       "\n",
       "                                      theme_namecode themecode   totalamt  \\\n",
       "0      [{'name': 'Education for all', 'code': '65'}]        65  130000000   \n",
       "1  [{'name': 'Other economic management', 'code':...     54,24          0   \n",
       "\n",
       "  totalcommamt                                                url  \n",
       "0    130000000  http://www.worldbank.org/projects/P129828/ethi...  \n",
       "1      4700000  http://www.worldbank.org/projects/P144674?lang=en  \n",
       "\n",
       "[2 rows x 50 columns]"
      ]
     },
     "execution_count": 7,
     "metadata": {},
     "output_type": "execute_result"
    }
   ],
   "source": [
    "sample_json_df = pd.read_json('data/world_bank_projects_less.json')\n",
    "sample_json_df"
   ]
  },
  {
   "cell_type": "markdown",
   "metadata": {},
   "source": [
    "****\n",
    "## JSON exercise\n",
    "\n",
    "Using data in file 'data/world_bank_projects.json' and the techniques demonstrated above,\n",
    "1. Find the 10 countries with most projects\n",
    "2. Find the top 10 major project themes (using column 'mjtheme_namecode')\n",
    "3. In 2. above you will notice that some entries have only the code and the name is missing. Create a dataframe with the missing names filled in."
   ]
  },
  {
   "cell_type": "code",
   "execution_count": 8,
   "metadata": {},
   "outputs": [],
   "source": [
    "#load the file from my desktop\n",
    "raw= json.load((open('data/world_bank_projects.json')))"
   ]
  },
  {
   "cell_type": "code",
   "execution_count": 9,
   "metadata": {},
   "outputs": [],
   "source": [
    "#turn the read file into a dataframe\n",
    "world_bank = pd.read_json('data/world_bank_projects.json')"
   ]
  },
  {
   "cell_type": "code",
   "execution_count": 10,
   "metadata": {},
   "outputs": [
    {
     "data": {
      "text/plain": [
       "Index(['_id', 'approvalfy', 'board_approval_month', 'boardapprovaldate',\n",
       "       'borrower', 'closingdate', 'country_namecode', 'countrycode',\n",
       "       'countryname', 'countryshortname', 'docty', 'envassesmentcategorycode',\n",
       "       'grantamt', 'ibrdcommamt', 'id', 'idacommamt', 'impagency',\n",
       "       'lendinginstr', 'lendinginstrtype', 'lendprojectcost',\n",
       "       'majorsector_percent', 'mjsector_namecode', 'mjtheme',\n",
       "       'mjtheme_namecode', 'mjthemecode', 'prodline', 'prodlinetext',\n",
       "       'productlinetype', 'project_abstract', 'project_name', 'projectdocs',\n",
       "       'projectfinancialtype', 'projectstatusdisplay', 'regionname', 'sector',\n",
       "       'sector1', 'sector2', 'sector3', 'sector4', 'sector_namecode',\n",
       "       'sectorcode', 'source', 'status', 'supplementprojectflg', 'theme1',\n",
       "       'theme_namecode', 'themecode', 'totalamt', 'totalcommamt', 'url'],\n",
       "      dtype='object')"
      ]
     },
     "execution_count": 10,
     "metadata": {},
     "output_type": "execute_result"
    }
   ],
   "source": [
    "#to get a grasp of the data\n",
    "world_bank.head()\n",
    "world_bank.columns"
   ]
  },
  {
   "cell_type": "code",
   "execution_count": 11,
   "metadata": {},
   "outputs": [
    {
     "data": {
      "text/html": [
       "<div>\n",
       "<style scoped>\n",
       "    .dataframe tbody tr th:only-of-type {\n",
       "        vertical-align: middle;\n",
       "    }\n",
       "\n",
       "    .dataframe tbody tr th {\n",
       "        vertical-align: top;\n",
       "    }\n",
       "\n",
       "    .dataframe thead th {\n",
       "        text-align: right;\n",
       "    }\n",
       "</style>\n",
       "<table border=\"1\" class=\"dataframe\">\n",
       "  <thead>\n",
       "    <tr style=\"text-align: right;\">\n",
       "      <th></th>\n",
       "      <th>countryname</th>\n",
       "      <th>totalamt</th>\n",
       "      <th>project_name</th>\n",
       "      <th>lendprojectcost</th>\n",
       "      <th>mjtheme_namecode</th>\n",
       "    </tr>\n",
       "  </thead>\n",
       "  <tbody>\n",
       "    <tr>\n",
       "      <th>0</th>\n",
       "      <td>Federal Democratic Republic of Ethiopia</td>\n",
       "      <td>130000000</td>\n",
       "      <td>Ethiopia General Education Quality Improvement...</td>\n",
       "      <td>550000000</td>\n",
       "      <td>[{'code': '8', 'name': 'Human development'}, {...</td>\n",
       "    </tr>\n",
       "    <tr>\n",
       "      <th>1</th>\n",
       "      <td>Republic of Tunisia</td>\n",
       "      <td>0</td>\n",
       "      <td>TN: DTF Social Protection Reforms Support</td>\n",
       "      <td>5700000</td>\n",
       "      <td>[{'code': '1', 'name': 'Economic management'},...</td>\n",
       "    </tr>\n",
       "    <tr>\n",
       "      <th>2</th>\n",
       "      <td>Tuvalu</td>\n",
       "      <td>6060000</td>\n",
       "      <td>Tuvalu Aviation Investment Project - Additiona...</td>\n",
       "      <td>6060000</td>\n",
       "      <td>[{'code': '5', 'name': 'Trade and integration'...</td>\n",
       "    </tr>\n",
       "    <tr>\n",
       "      <th>3</th>\n",
       "      <td>Republic of Yemen</td>\n",
       "      <td>0</td>\n",
       "      <td>Gov't and Civil Society Organization Partnership</td>\n",
       "      <td>1500000</td>\n",
       "      <td>[{'code': '7', 'name': 'Social dev/gender/incl...</td>\n",
       "    </tr>\n",
       "    <tr>\n",
       "      <th>4</th>\n",
       "      <td>Kingdom of Lesotho</td>\n",
       "      <td>13100000</td>\n",
       "      <td>Second Private Sector Competitiveness and Econ...</td>\n",
       "      <td>15000000</td>\n",
       "      <td>[{'code': '5', 'name': 'Trade and integration'...</td>\n",
       "    </tr>\n",
       "  </tbody>\n",
       "</table>\n",
       "</div>"
      ],
      "text/plain": [
       "                               countryname   totalamt  \\\n",
       "0  Federal Democratic Republic of Ethiopia  130000000   \n",
       "1                      Republic of Tunisia          0   \n",
       "2                                   Tuvalu    6060000   \n",
       "3                        Republic of Yemen          0   \n",
       "4                       Kingdom of Lesotho   13100000   \n",
       "\n",
       "                                        project_name  lendprojectcost  \\\n",
       "0  Ethiopia General Education Quality Improvement...        550000000   \n",
       "1          TN: DTF Social Protection Reforms Support          5700000   \n",
       "2  Tuvalu Aviation Investment Project - Additiona...          6060000   \n",
       "3   Gov't and Civil Society Organization Partnership          1500000   \n",
       "4  Second Private Sector Competitiveness and Econ...         15000000   \n",
       "\n",
       "                                    mjtheme_namecode  \n",
       "0  [{'code': '8', 'name': 'Human development'}, {...  \n",
       "1  [{'code': '1', 'name': 'Economic management'},...  \n",
       "2  [{'code': '5', 'name': 'Trade and integration'...  \n",
       "3  [{'code': '7', 'name': 'Social dev/gender/incl...  \n",
       "4  [{'code': '5', 'name': 'Trade and integration'...  "
      ]
     },
     "execution_count": 11,
     "metadata": {},
     "output_type": "execute_result"
    }
   ],
   "source": [
    "#taking a look of column data\n",
    "world_bank[[\"countryname\", \"totalamt\", \"project_name\", \"lendprojectcost\", \"mjtheme_namecode\"]].head(5)"
   ]
  },
  {
   "cell_type": "code",
   "execution_count": 12,
   "metadata": {},
   "outputs": [],
   "source": [
    "#Probem 1\n",
    "#Find the 10 countries with most projects"
   ]
  },
  {
   "cell_type": "code",
   "execution_count": 13,
   "metadata": {},
   "outputs": [],
   "source": [
    "most_projects= world_bank[\"countryname\"].value_counts().head(10)"
   ]
  },
  {
   "cell_type": "code",
   "execution_count": 14,
   "metadata": {},
   "outputs": [
    {
     "data": {
      "image/png": "[encoded data removed]",
      "text/plain": [
       "<Figure size 432x288 with 1 Axes>"
      ]
     },
     "metadata": {
      "needs_background": "light"
     },
     "output_type": "display_data"
    }
   ],
   "source": [
    "most_projects= most_projects.plot(kind= \"bar\", rot= 90)\n",
    "most_projects.set_ylim([0,20])\n",
    "plt.show()"
   ]
  },
  {
   "cell_type": "code",
   "execution_count": 15,
   "metadata": {},
   "outputs": [],
   "source": [
    "#Probem 2\n",
    "#Find the top 10 major project themes (using column 'mjtheme_namecode')\n",
    "#In 2. above you will notice that some entries have only the code and the name is missing. Create a dataframe with the missing names filled in."
   ]
  },
  {
   "cell_type": "code",
   "execution_count": 16,
   "metadata": {},
   "outputs": [
    {
     "data": {
      "text/html": [
       "<div>\n",
       "<style scoped>\n",
       "    .dataframe tbody tr th:only-of-type {\n",
       "        vertical-align: middle;\n",
       "    }\n",
       "\n",
       "    .dataframe tbody tr th {\n",
       "        vertical-align: top;\n",
       "    }\n",
       "\n",
       "    .dataframe thead th {\n",
       "        text-align: right;\n",
       "    }\n",
       "</style>\n",
       "<table border=\"1\" class=\"dataframe\">\n",
       "  <thead>\n",
       "    <tr style=\"text-align: right;\">\n",
       "      <th></th>\n",
       "      <th>code</th>\n",
       "      <th>name</th>\n",
       "    </tr>\n",
       "  </thead>\n",
       "  <tbody>\n",
       "    <tr>\n",
       "      <th>0</th>\n",
       "      <td>8</td>\n",
       "      <td>Human development</td>\n",
       "    </tr>\n",
       "    <tr>\n",
       "      <th>1</th>\n",
       "      <td>11</td>\n",
       "      <td></td>\n",
       "    </tr>\n",
       "    <tr>\n",
       "      <th>2</th>\n",
       "      <td>1</td>\n",
       "      <td>Economic management</td>\n",
       "    </tr>\n",
       "    <tr>\n",
       "      <th>3</th>\n",
       "      <td>6</td>\n",
       "      <td>Social protection and risk management</td>\n",
       "    </tr>\n",
       "    <tr>\n",
       "      <th>4</th>\n",
       "      <td>5</td>\n",
       "      <td>Trade and integration</td>\n",
       "    </tr>\n",
       "    <tr>\n",
       "      <th>5</th>\n",
       "      <td>2</td>\n",
       "      <td>Public sector governance</td>\n",
       "    </tr>\n",
       "    <tr>\n",
       "      <th>6</th>\n",
       "      <td>11</td>\n",
       "      <td>Environment and natural resources management</td>\n",
       "    </tr>\n",
       "    <tr>\n",
       "      <th>7</th>\n",
       "      <td>6</td>\n",
       "      <td>Social protection and risk management</td>\n",
       "    </tr>\n",
       "    <tr>\n",
       "      <th>8</th>\n",
       "      <td>7</td>\n",
       "      <td>Social dev/gender/inclusion</td>\n",
       "    </tr>\n",
       "    <tr>\n",
       "      <th>9</th>\n",
       "      <td>7</td>\n",
       "      <td>Social dev/gender/inclusion</td>\n",
       "    </tr>\n",
       "  </tbody>\n",
       "</table>\n",
       "</div>"
      ],
      "text/plain": [
       "  code                                          name\n",
       "0    8                             Human development\n",
       "1   11                                              \n",
       "2    1                           Economic management\n",
       "3    6         Social protection and risk management\n",
       "4    5                         Trade and integration\n",
       "5    2                      Public sector governance\n",
       "6   11  Environment and natural resources management\n",
       "7    6         Social protection and risk management\n",
       "8    7                   Social dev/gender/inclusion\n",
       "9    7                   Social dev/gender/inclusion"
      ]
     },
     "execution_count": 16,
     "metadata": {},
     "output_type": "execute_result"
    }
   ],
   "source": [
    "#normalize the mjtheme namecode\n",
    "name_code = json_normalize(raw, 'mjtheme_namecode')\n",
    "name_code.head(10)"
   ]
  },
  {
   "cell_type": "code",
   "execution_count": 17,
   "metadata": {},
   "outputs": [
    {
     "data": {
      "text/html": [
       "<div>\n",
       "<style scoped>\n",
       "    .dataframe tbody tr th:only-of-type {\n",
       "        vertical-align: middle;\n",
       "    }\n",
       "\n",
       "    .dataframe tbody tr th {\n",
       "        vertical-align: top;\n",
       "    }\n",
       "\n",
       "    .dataframe thead th {\n",
       "        text-align: right;\n",
       "    }\n",
       "</style>\n",
       "<table border=\"1\" class=\"dataframe\">\n",
       "  <thead>\n",
       "    <tr style=\"text-align: right;\">\n",
       "      <th></th>\n",
       "      <th>code</th>\n",
       "      <th>name</th>\n",
       "    </tr>\n",
       "  </thead>\n",
       "  <tbody>\n",
       "    <tr>\n",
       "      <th>0</th>\n",
       "      <td>8</td>\n",
       "      <td>Human development</td>\n",
       "    </tr>\n",
       "    <tr>\n",
       "      <th>1</th>\n",
       "      <td>11</td>\n",
       "      <td>NaN</td>\n",
       "    </tr>\n",
       "    <tr>\n",
       "      <th>2</th>\n",
       "      <td>1</td>\n",
       "      <td>Economic management</td>\n",
       "    </tr>\n",
       "    <tr>\n",
       "      <th>3</th>\n",
       "      <td>6</td>\n",
       "      <td>Social protection and risk management</td>\n",
       "    </tr>\n",
       "    <tr>\n",
       "      <th>4</th>\n",
       "      <td>5</td>\n",
       "      <td>Trade and integration</td>\n",
       "    </tr>\n",
       "  </tbody>\n",
       "</table>\n",
       "</div>"
      ],
      "text/plain": [
       "  code                                   name\n",
       "0    8                      Human development\n",
       "1   11                                    NaN\n",
       "2    1                    Economic management\n",
       "3    6  Social protection and risk management\n",
       "4    5                  Trade and integration"
      ]
     },
     "execution_count": 17,
     "metadata": {},
     "output_type": "execute_result"
    }
   ],
   "source": [
    "#fill in blanks with NaN\n",
    "name_code.replace('', np.NaN, inplace= True)\n",
    "name_code.head()"
   ]
  },
  {
   "cell_type": "code",
   "execution_count": 18,
   "metadata": {},
   "outputs": [],
   "source": [
    "#fill in number from code column to name column\n",
    "name_code.name = name_code.name.fillna(value=name_code.code)"
   ]
  },
  {
   "cell_type": "code",
   "execution_count": 19,
   "metadata": {},
   "outputs": [
    {
     "data": {
      "text/html": [
       "<div>\n",
       "<style scoped>\n",
       "    .dataframe tbody tr th:only-of-type {\n",
       "        vertical-align: middle;\n",
       "    }\n",
       "\n",
       "    .dataframe tbody tr th {\n",
       "        vertical-align: top;\n",
       "    }\n",
       "\n",
       "    .dataframe thead th {\n",
       "        text-align: right;\n",
       "    }\n",
       "</style>\n",
       "<table border=\"1\" class=\"dataframe\">\n",
       "  <thead>\n",
       "    <tr style=\"text-align: right;\">\n",
       "      <th></th>\n",
       "      <th>code</th>\n",
       "      <th>name</th>\n",
       "    </tr>\n",
       "  </thead>\n",
       "  <tbody>\n",
       "    <tr>\n",
       "      <th>0</th>\n",
       "      <td>8</td>\n",
       "      <td>Human development</td>\n",
       "    </tr>\n",
       "    <tr>\n",
       "      <th>1</th>\n",
       "      <td>11</td>\n",
       "      <td>11</td>\n",
       "    </tr>\n",
       "    <tr>\n",
       "      <th>2</th>\n",
       "      <td>1</td>\n",
       "      <td>Economic management</td>\n",
       "    </tr>\n",
       "    <tr>\n",
       "      <th>3</th>\n",
       "      <td>6</td>\n",
       "      <td>Social protection and risk management</td>\n",
       "    </tr>\n",
       "    <tr>\n",
       "      <th>4</th>\n",
       "      <td>5</td>\n",
       "      <td>Trade and integration</td>\n",
       "    </tr>\n",
       "  </tbody>\n",
       "</table>\n",
       "</div>"
      ],
      "text/plain": [
       "  code                                   name\n",
       "0    8                      Human development\n",
       "1   11                                     11\n",
       "2    1                    Economic management\n",
       "3    6  Social protection and risk management\n",
       "4    5                  Trade and integration"
      ]
     },
     "execution_count": 19,
     "metadata": {},
     "output_type": "execute_result"
    }
   ],
   "source": [
    "name_code.head()"
   ]
  },
  {
   "cell_type": "code",
   "execution_count": 20,
   "metadata": {},
   "outputs": [],
   "source": [
    "#dictionary mapping key-value pairs\n",
    "#FIGURE OUT HOW TO CREATE A DICTIONARY FROM SCRATCH\n",
    "dict = {\"8\": 'Human development',\n",
    " \"11\": 'Environment and natural resources management',\n",
    " \"1\": 'Economic management',\n",
    " \"6\": 'Social protection and risk management',\n",
    " \"5\": 'Trade and integration',\n",
    " \"2\": 'Public sector governance',\n",
    " \"7\": 'Social dev/gender/inclusion',\n",
    " \"4\": 'Financial and private sector development',\n",
    " \"10\": 'Rural development',\n",
    " \"9\": 'Urban development',\n",
    " \"3\": 'Rule of law'}"
   ]
  },
  {
   "cell_type": "code",
   "execution_count": 21,
   "metadata": {},
   "outputs": [
    {
     "data": {
      "text/html": [
       "<div>\n",
       "<style scoped>\n",
       "    .dataframe tbody tr th:only-of-type {\n",
       "        vertical-align: middle;\n",
       "    }\n",
       "\n",
       "    .dataframe tbody tr th {\n",
       "        vertical-align: top;\n",
       "    }\n",
       "\n",
       "    .dataframe thead th {\n",
       "        text-align: right;\n",
       "    }\n",
       "</style>\n",
       "<table border=\"1\" class=\"dataframe\">\n",
       "  <thead>\n",
       "    <tr style=\"text-align: right;\">\n",
       "      <th></th>\n",
       "      <th>code</th>\n",
       "      <th>name</th>\n",
       "    </tr>\n",
       "  </thead>\n",
       "  <tbody>\n",
       "    <tr>\n",
       "      <th>0</th>\n",
       "      <td>8</td>\n",
       "      <td>Human development</td>\n",
       "    </tr>\n",
       "    <tr>\n",
       "      <th>1</th>\n",
       "      <td>11</td>\n",
       "      <td>Environment and natural resources management</td>\n",
       "    </tr>\n",
       "    <tr>\n",
       "      <th>2</th>\n",
       "      <td>1</td>\n",
       "      <td>Economic management</td>\n",
       "    </tr>\n",
       "    <tr>\n",
       "      <th>3</th>\n",
       "      <td>6</td>\n",
       "      <td>Social protection and risk management</td>\n",
       "    </tr>\n",
       "    <tr>\n",
       "      <th>4</th>\n",
       "      <td>5</td>\n",
       "      <td>Trade and integration</td>\n",
       "    </tr>\n",
       "  </tbody>\n",
       "</table>\n",
       "</div>"
      ],
      "text/plain": [
       "  code                                          name\n",
       "0    8                             Human development\n",
       "1   11  Environment and natural resources management\n",
       "2    1                           Economic management\n",
       "3    6         Social protection and risk management\n",
       "4    5                         Trade and integration"
      ]
     },
     "execution_count": 21,
     "metadata": {},
     "output_type": "execute_result"
    }
   ],
   "source": [
    "#fill in the code numbers with the correct name\n",
    "name_code['name'].replace(dict, inplace=True)\n",
    "name_code.head()"
   ]
  },
  {
   "cell_type": "code",
   "execution_count": 22,
   "metadata": {},
   "outputs": [
    {
     "data": {
      "text/plain": [
       "Environment and natural resources management    250\n",
       "Rural development                               216\n",
       "Human development                               210\n",
       "Public sector governance                        199\n",
       "Social protection and risk management           168\n",
       "Financial and private sector development        146\n",
       "Social dev/gender/inclusion                     130\n",
       "Trade and integration                            77\n",
       "Urban development                                50\n",
       "Economic management                              38\n",
       "Name: name, dtype: int64"
      ]
     },
     "execution_count": 22,
     "metadata": {},
     "output_type": "execute_result"
    }
   ],
   "source": [
    "#sorting the projects themes by name\n",
    "name_code[\"name\"].value_counts().head(10)"
   ]
  },
  {
   "cell_type": "code",
   "execution_count": 23,
   "metadata": {},
   "outputs": [
    {
     "data": {
      "text/plain": [
       "11    250\n",
       "10    216\n",
       "8     210\n",
       "2     199\n",
       "6     168\n",
       "4     146\n",
       "7     130\n",
       "5      77\n",
       "9      50\n",
       "1      38\n",
       "Name: code, dtype: int64"
      ]
     },
     "execution_count": 23,
     "metadata": {},
     "output_type": "execute_result"
    }
   ],
   "source": [
    "#check to see if it matches up with the numbers from the code number:\n",
    "name_code[\"code\"].value_counts().head(10)"
   ]
  },
  {
   "cell_type": "code",
   "execution_count": 24,
   "metadata": {},
   "outputs": [
    {
     "ename": "AttributeError",
     "evalue": "'Series' object has no attribute 'set_xlabel'",
     "output_type": "error",
     "traceback": [
      "\u001b[0;31m---------------------------------------------------------------------------\u001b[0m",
      "\u001b[0;31mAttributeError\u001b[0m                            Traceback (most recent call last)",
      "\u001b[0;32m<ipython-input-24-dfe20fc68dc2>\u001b[0m in \u001b[0;36m<module>\u001b[0;34m\u001b[0m\n\u001b[1;32m      3\u001b[0m \u001b[0mname_plot\u001b[0m\u001b[0;34m=\u001b[0m \u001b[0mname_code\u001b[0m\u001b[0;34m[\u001b[0m\u001b[0;34m\"name\"\u001b[0m\u001b[0;34m]\u001b[0m\u001b[0;34m.\u001b[0m\u001b[0mvalue_counts\u001b[0m\u001b[0;34m(\u001b[0m\u001b[0;34m)\u001b[0m\u001b[0;34m\u001b[0m\u001b[0;34m\u001b[0m\u001b[0m\n\u001b[1;32m      4\u001b[0m \u001b[0mname_plot\u001b[0m\u001b[0;34m.\u001b[0m\u001b[0mplot\u001b[0m\u001b[0;34m(\u001b[0m\u001b[0mkind\u001b[0m\u001b[0;34m=\u001b[0m\u001b[0;34m\"bar\"\u001b[0m\u001b[0;34m,\u001b[0m \u001b[0mrot\u001b[0m\u001b[0;34m=\u001b[0m \u001b[0;36m90\u001b[0m\u001b[0;34m)\u001b[0m\u001b[0;34m\u001b[0m\u001b[0;34m\u001b[0m\u001b[0m\n\u001b[0;32m----> 5\u001b[0;31m \u001b[0mname_plot\u001b[0m\u001b[0;34m.\u001b[0m\u001b[0mset_xlabel\u001b[0m\u001b[0;34m(\u001b[0m\u001b[0;34m'Project Name'\u001b[0m\u001b[0;34m)\u001b[0m\u001b[0;34m\u001b[0m\u001b[0;34m\u001b[0m\u001b[0m\n\u001b[0m\u001b[1;32m      6\u001b[0m \u001b[0mname_plot\u001b[0m\u001b[0;34m.\u001b[0m\u001b[0mset_ylabel\u001b[0m\u001b[0;34m(\u001b[0m\u001b[0;34m'Frequency'\u001b[0m\u001b[0;34m)\u001b[0m\u001b[0;34m\u001b[0m\u001b[0;34m\u001b[0m\u001b[0m\n\u001b[1;32m      7\u001b[0m \u001b[0mname_plot\u001b[0m\u001b[0;34m.\u001b[0m\u001b[0mset_title\u001b[0m\u001b[0;34m(\u001b[0m\u001b[0;34m\"Most Common World Bank Projects\"\u001b[0m\u001b[0;34m)\u001b[0m\u001b[0;34m\u001b[0m\u001b[0;34m\u001b[0m\u001b[0m\n",
      "\u001b[0;32m/Applications/anaconda3/lib/python3.7/site-packages/pandas/core/generic.py\u001b[0m in \u001b[0;36m__getattr__\u001b[0;34m(self, name)\u001b[0m\n\u001b[1;32m   4374\u001b[0m             \u001b[0;32mif\u001b[0m \u001b[0mself\u001b[0m\u001b[0;34m.\u001b[0m\u001b[0m_info_axis\u001b[0m\u001b[0;34m.\u001b[0m\u001b[0m_can_hold_identifiers_and_holds_name\u001b[0m\u001b[0;34m(\u001b[0m\u001b[0mname\u001b[0m\u001b[0;34m)\u001b[0m\u001b[0;34m:\u001b[0m\u001b[0;34m\u001b[0m\u001b[0;34m\u001b[0m\u001b[0m\n\u001b[1;32m   4375\u001b[0m                 \u001b[0;32mreturn\u001b[0m \u001b[0mself\u001b[0m\u001b[0;34m[\u001b[0m\u001b[0mname\u001b[0m\u001b[0;34m]\u001b[0m\u001b[0;34m\u001b[0m\u001b[0;34m\u001b[0m\u001b[0m\n\u001b[0;32m-> 4376\u001b[0;31m             \u001b[0;32mreturn\u001b[0m \u001b[0mobject\u001b[0m\u001b[0;34m.\u001b[0m\u001b[0m__getattribute__\u001b[0m\u001b[0;34m(\u001b[0m\u001b[0mself\u001b[0m\u001b[0;34m,\u001b[0m \u001b[0mname\u001b[0m\u001b[0;34m)\u001b[0m\u001b[0;34m\u001b[0m\u001b[0;34m\u001b[0m\u001b[0m\n\u001b[0m\u001b[1;32m   4377\u001b[0m \u001b[0;34m\u001b[0m\u001b[0m\n\u001b[1;32m   4378\u001b[0m     \u001b[0;32mdef\u001b[0m \u001b[0m__setattr__\u001b[0m\u001b[0;34m(\u001b[0m\u001b[0mself\u001b[0m\u001b[0;34m,\u001b[0m \u001b[0mname\u001b[0m\u001b[0;34m,\u001b[0m \u001b[0mvalue\u001b[0m\u001b[0;34m)\u001b[0m\u001b[0;34m:\u001b[0m\u001b[0;34m\u001b[0m\u001b[0;34m\u001b[0m\u001b[0m\n",
      "\u001b[0;31mAttributeError\u001b[0m: 'Series' object has no attribute 'set_xlabel'"
     ]
    },
    {
     "data": {
      "image/png": "[encoded data removed]",
      "text/plain": [
       "<Figure size 432x288 with 1 Axes>"
      ]
     },
     "metadata": {
      "needs_background": "light"
     },
     "output_type": "display_data"
    }
   ],
   "source": [
    "#plot the most frequent projects:\n",
    "\n",
    "name_plot= name_code[\"name\"].value_counts()\n",
    "name_plot.plot(kind=\"bar\", rot= 90)\n",
    "name_plot.set_xlabel('Project Name')\n",
    "name_plot.set_ylabel('Frequency')\n",
    "name_plot.set_title(\"Most Common World Bank Projects\")\n",
    "\n",
    "plt.show()"
   ]
  },
  {
   "cell_type": "code",
   "execution_count": null,
   "metadata": {},
   "outputs": [],
   "source": [
    "#for fun, the top ten biggest projects \n",
    "import matplotlib.pyplot as plt\n",
    "\n",
    "#creating a smaller df & sorting based on loan amount\n",
    "wb_biggest_loans= world_bank[[\"countryname\", \"totalamt\", 'closingdate']]\n",
    "wb_biggest_loans = wb_biggest_loans.sort_values(\"totalamt\", ascending= False).head(10)\n",
    "\n",
    "#Plotting & extra tweaks\n",
    "wb_bigloan_plot =wb_biggest_loans.plot(kind= \"bar\", x= \"countryname\", y= \"totalamt\", rot= 90)\n",
    "wb_bigloan_plot.set_title('Largest World Bank Loans')\n",
    "wb_bigloan_plot.set_xlabel('Country Name')\n",
    "wb_bigloan_plot.set_ylabel('Amount (in Billions of $USD)')\n",
    "wb_bigloan_plot.set_ylim([20000000,1500000000])\n",
    "\n",
    "\n",
    "#creating year labels to correspond to the country & loan\n",
    "labels = list(wb_biggest_loans[\"closingdate\"])\n",
    "labels= [date[:4] for date in labels]\n",
    "rects = wb_bigloan_plot.patches\n",
    "for rect, label in zip(rects, labels):\n",
    "    height = rect.get_height()\n",
    "    wb_bigloan_plot.text(rect.get_x() + rect.get_width() / 2, height + 5, label,\n",
    "            ha='center', va='bottom')\n",
    "\n",
    "\n",
    "plt.show()\n"
   ]
  },
  {
   "cell_type": "code",
   "execution_count": null,
   "metadata": {},
   "outputs": [],
   "source": [
    "#verifying what numer it is\n",
    "wb_biggest_loans[wb_biggest_loans[\"countryname\"]== \"Republic of Poland\"]"
   ]
  },
  {
   "cell_type": "code",
   "execution_count": null,
   "metadata": {},
   "outputs": [],
   "source": [
    "#How would you solve the missing data problem?"
   ]
  },
  {
   "cell_type": "code",
   "execution_count": null,
   "metadata": {},
   "outputs": [],
   "source": [
    "#FIGURE OUT HOW TO CREATE A DICTIONARY OUT OF CODE!!\n",
    "\n",
    "\n",
    "# #make a dictionary out of the values\n",
    "# dict_name_code=name_code.T.to_dict(\"list\")\n",
    "# dict_name_code[1]= [\"Economic management\"]\n",
    "# dict_name_code[6]= [\"Social protection and risk management\"]\n",
    "# dict_name_code\n",
    "# name_code['name'].update(pd.Series(dict_name_code))\n",
    "\n",
    "# name_code.head()"
   ]
  },
  {
   "cell_type": "code",
   "execution_count": null,
   "metadata": {},
   "outputs": [],
   "source": []
  },
  {
   "cell_type": "code",
   "execution_count": null,
   "metadata": {},
   "outputs": [],
   "source": []
  },
  {
   "cell_type": "code",
   "execution_count": null,
   "metadata": {},
   "outputs": [],
   "source": []
  }
 ],
 "metadata": {
  "kernelspec": {
   "display_name": "Python 3",
   "language": "python",
   "name": "python3"
  },
  "language_info": {
   "codemirror_mode": {
    "name": "ipython",
    "version": 3
   },
   "file_extension": ".py",
   "mimetype": "text/x-python",
   "name": "python",
   "nbconvert_exporter": "python",
   "pygments_lexer": "ipython3",
   "version": "3.7.1"
  }
 },
 "nbformat": 4,
 "nbformat_minor": 1
}
